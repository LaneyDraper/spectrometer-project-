{
 "cells": [
  {
   "cell_type": "code",
   "execution_count": null,
   "id": "fa3bdd54-68cf-4979-bc5c-50421a7ddd33",
   "metadata": {},
   "outputs": [],
   "source": [
    "https://numpy.org/doc/stable/reference/generated/numpy.positive.html\n",
    "https://www.geeksforgeeks.org/python-replace-negative-value-with-zero-in-numpy-array/\n",
    "https://github.com/OpnTec/open-spectrometer-python\n",
    "https://chem.libretexts.org/Bookshelves/Analytical_Chemistry/Supplemental_Modules_(Analytical_Chemistry)/Analytical_Sciences_Digital_Library/Contextual_Modules/End_Creek%3A_Spotted_Frogs_and_Aquatic_Snails_in_Wetlands__A_Water_Quality_Investigation/09_Instructors_Guides/06_Analysis_of_Anions_by_Spectrophotometry#:~:text=The%20blue%20dye%20has%20an%20absorbance%20at,%CE%BB%20max%20of%20approximately%200.88%20and%2013%25%20transmittance"
    "https://scikit-learn.org/stable/modules/generated/sklearn.linear_model.LinearRegression.html#sklearn.linear_model.LinearRegression"
   ]
  }
 ],
 "metadata": {
  "kernelspec": {
   "display_name": "Python 3 (ipykernel)",
   "language": "python",
   "name": "python3"
  },
  "language_info": {
   "codemirror_mode": {
    "name": "ipython",
    "version": 3
   },
   "file_extension": ".py",
   "mimetype": "text/x-python",
   "name": "python",
   "nbconvert_exporter": "python",
   "pygments_lexer": "ipython3",
   "version": "3.12.1"
  }
 },
 "nbformat": 4,
 "nbformat_minor": 5
}
