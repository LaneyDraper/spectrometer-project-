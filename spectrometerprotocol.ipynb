{
 "cells": [
  {
   "cell_type": "markdown",
   "id": "ec3b5b16-c0af-4412-ba8c-ec3426730e52",
   "metadata": {},
   "source": [
    "Tell the spectrometer to take a reading \n",
    "read what the spectrometer collected \n",
    "establish initial connection with spectrometer - usb to serial connector ; occurs through python's serial module ; has a function that lists all the available serial ports \n",
    "turn it into a class defintion \n",
    "under what circumstances should the spectrometer read the data? "
   ]
  }
 ],
 "metadata": {
  "kernelspec": {
   "display_name": "Python 3 (ipykernel)",
   "language": "python",
   "name": "python3"
  },
  "language_info": {
   "codemirror_mode": {
    "name": "ipython",
    "version": 3
   },
   "file_extension": ".py",
   "mimetype": "text/x-python",
   "name": "python",
   "nbconvert_exporter": "python",
   "pygments_lexer": "ipython3",
   "version": "3.12.1"
  }
 },
 "nbformat": 4,
 "nbformat_minor": 5
}
